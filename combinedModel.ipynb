{
 "cells": [
  {
   "cell_type": "code",
   "execution_count": 9,
   "metadata": {},
   "outputs": [],
   "source": [
    "import numpy as np\n",
    "from scipy import stats\n",
    "import tensorflow as tf"
   ]
  },
  {
   "cell_type": "code",
   "execution_count": 5,
   "metadata": {},
   "outputs": [],
   "source": [
    "with open('ytest.csv', 'r') as f:\n",
    "    y_test = np.genfromtxt(f, delimiter=',')\n",
    "    \n",
    "with open('ypred_Lin.csv', 'r') as f:\n",
    "    y_pred_Lin = np.genfromtxt(f, delimiter=',')\n",
    "\n",
    "with open('ypred_KNN.csv', 'r') as f:\n",
    "    y_pred_Knn = np.genfromtxt(f, delimiter=',')\n",
    "\n",
    "with open('ypred_DNN.csv', 'r') as f:\n",
    "    y_pred_Dnn = np.genfromtxt(f, delimiter=',')\n",
    "\n",
    "with open('ypred_CNN.csv', 'r') as f:\n",
    "    y_pred_Cnn = np.genfromtxt(f, delimiter=',')\n"
   ]
  },
  {
   "cell_type": "code",
   "execution_count": 35,
   "metadata": {},
   "outputs": [],
   "source": [
    "def modeCombine(y_pred_Lin, y_pred_Knn, y_pred_Dnn, y_pred_Cnn):\n",
    "    y_pred = []\n",
    "    for i in range(len(y_pred_Lin)):\n",
    "        temp = [y_pred_Lin[i], y_pred_Knn[i], y_pred_Dnn[i], y_pred_Cnn[i]]\n",
    "        if stats.mode(temp)[0] > 1:\n",
    "            y_pred.append(stats.mode(temp)[0][0])\n",
    "        else:\n",
    "            y_pred.append(y_pred_Cnn[i])\n",
    "    return y_pred"
   ]
  },
  {
   "cell_type": "code",
   "execution_count": 36,
   "metadata": {},
   "outputs": [
    {
     "name": "stdout",
     "output_type": "stream",
     "text": [
      "Classifiation Rate: 0.8807\n"
     ]
    }
   ],
   "source": [
    "from statistics import mode\n",
    "from sklearn.metrics import confusion_matrix\n",
    "\n",
    "y_pred = modeCombine(y_pred_Lin, y_pred_Knn, y_pred_Dnn, y_pred_Cnn)\n",
    "\n",
    "cm = confusion_matrix(y_test, y_pred)\n",
    "\n",
    "correct = 0\n",
    "for i in range(len(cm)):\n",
    "    correct += cm[i][i]\n",
    "\n",
    "r = round((correct) / np.sum(cm), 4)\n",
    "print(f'Classifiation Rate: {r}')\n",
    "\n",
    "np.savetxt('data_Combined.csv', cm, delimiter=',')"
   ]
  },
  {
   "cell_type": "code",
   "execution_count": 42,
   "metadata": {},
   "outputs": [],
   "source": [
    "def probCombine(y_pred_Lin, y_pred_Knn, y_pred_Dnn, y_pred_Cnn):\n",
    "    y_pred_Lin = np.asarray(y_pred_Lin).astype('float32')\n",
    "    y_pred_Knn = np.asarray(y_pred_Knn).astype('float32')\n",
    "    y_pred_Dnn = np.asarray(y_pred_Dnn).astype('float32')\n",
    "    y_pred_Cnn = np.asarray(y_pred_Cnn).astype('float32')\n",
    "\n",
    "    labels_Lin = tf.reshape(tf.one_hot(y_pred_Lin, 62), [-1, 62])\n",
    "    labels_Knn = tf.reshape(tf.one_hot(y_pred_Knn, 62), [-1, 62])\n",
    "    labels_Dnn = tf.reshape(tf.one_hot(y_pred_Dnn, 62), [-1, 62])\n",
    "    labels_Cnn = tf.reshape(tf.one_hot(y_pred_Cnn, 62), [-1, 62])\n",
    "\n",
    "    prob_Lin = 0.0\n",
    "    prob_Knn = 0.5\n",
    "    prob_Dnn = 0.5\n",
    "    prob_Cnn = 1.0\n",
    "\n",
    "    y_pred = []\n",
    "    for i in range(len(y_pred_Lin)):\n",
    "        temp = prob_Lin * labels_Lin[i] + prob_Knn * labels_Knn[i] + prob_Dnn * labels_Dnn[i] + prob_Cnn * labels_Cnn[i]\n",
    "        y_pred.append(np.argmax(temp, axis = -1))\n",
    "\n",
    "    return y_pred"
   ]
  },
  {
   "cell_type": "code",
   "execution_count": 44,
   "metadata": {},
   "outputs": [
    {
     "name": "stdout",
     "output_type": "stream",
     "text": [
      "Classifiation Rate: 0.9363\n"
     ]
    }
   ],
   "source": [
    "from statistics import mode\n",
    "from sklearn.metrics import confusion_matrix\n",
    "\n",
    "y_pred = probCombine(y_pred_Lin, y_pred_Knn, y_pred_Dnn, y_pred_Cnn)\n",
    "\n",
    "cm = confusion_matrix(y_test, y_pred)\n",
    "\n",
    "correct = 0\n",
    "for i in range(len(cm)):\n",
    "    correct += cm[i][i]\n",
    "\n",
    "r = round((correct) / np.sum(cm), 4)\n",
    "print(f'Classifiation Rate: {r}')\n",
    "\n",
    "np.savetxt('data_Combined.csv', cm, delimiter=',')"
   ]
  },
  {
   "cell_type": "code",
   "execution_count": null,
   "metadata": {},
   "outputs": [],
   "source": []
  }
 ],
 "metadata": {
  "kernelspec": {
   "display_name": "Python 3.9.12 ('ece539tf')",
   "language": "python",
   "name": "python3"
  },
  "language_info": {
   "codemirror_mode": {
    "name": "ipython",
    "version": 3
   },
   "file_extension": ".py",
   "mimetype": "text/x-python",
   "name": "python",
   "nbconvert_exporter": "python",
   "pygments_lexer": "ipython3",
   "version": "3.9.12"
  },
  "orig_nbformat": 4,
  "vscode": {
   "interpreter": {
    "hash": "742aaf27b73ff194636ea5a0e5218b84415e94d8d5ee10656f6083b55c5f7c58"
   }
  }
 },
 "nbformat": 4,
 "nbformat_minor": 2
}
