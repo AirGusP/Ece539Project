{
 "cells": [
  {
   "cell_type": "code",
   "execution_count": 2,
   "metadata": {},
   "outputs": [],
   "source": [
    "import os\n",
    "import cv2\n",
    "import numpy as np\n",
    "import matplotlib.pyplot as plt\n",
    "import tensorflow as tf\n",
    "import scipy.io as sio"
   ]
  },
  {
   "cell_type": "code",
   "execution_count": 3,
   "metadata": {},
   "outputs": [],
   "source": [
    "# Load data from emnist\n",
    "data = sio.loadmat(\"emnist-byclass.mat\")['dataset']"
   ]
  },
  {
   "cell_type": "code",
   "execution_count": 4,
   "metadata": {},
   "outputs": [],
   "source": [
    "from sklearn.model_selection import train_test_split\n",
    "\n",
    "trainSize = 0.5\n",
    "\n",
    "X_train_data = data[0][0][0][0][0][0]\n",
    "y_train_data = data[0][0][0][0][0][1]\n",
    "\n",
    "X_train, X_val, y_train, y_val = train_test_split(X_train_data, y_train_data, train_size=trainSize)\n"
   ]
  },
  {
   "cell_type": "code",
   "execution_count": 5,
   "metadata": {},
   "outputs": [],
   "source": [
    "X_test = data[0][0][1][0][0][0]\n",
    "y_test = data[0][0][1][0][0][1]"
   ]
  },
  {
   "cell_type": "code",
   "execution_count": 6,
   "metadata": {},
   "outputs": [],
   "source": [
    "X_train = tf.keras.utils.normalize(X_train, axis=1)\n",
    "X_test = tf.keras.utils.normalize(X_test, axis=1)"
   ]
  },
  {
   "cell_type": "code",
   "execution_count": 36,
   "metadata": {},
   "outputs": [],
   "source": [
    "models = []\n",
    "# numNeuron = [8, 12, 16, 20, 32, 64]\n",
    "numNeuron = [100, 200, 300, 400, 500, 600]\n",
    "\n",
    "for n in numNeuron:\n",
    "    model = tf.keras.models.Sequential()\n",
    "    model.add(tf.keras.layers.Dense(n, input_dim=784, activation='linear'))\n",
    "    model.add(tf.keras.layers.Dense(62, activation='softmax'))\n",
    "    models.append(model)\n"
   ]
  },
  {
   "cell_type": "code",
   "execution_count": 37,
   "metadata": {},
   "outputs": [],
   "source": [
    "for i in range(len(models)):\n",
    "    models[i].compile(optimizer='adam', loss='sparse_categorical_crossentropy', metrics=['accuracy'])"
   ]
  },
  {
   "cell_type": "code",
   "execution_count": 38,
   "metadata": {},
   "outputs": [
    {
     "name": "stdout",
     "output_type": "stream",
     "text": [
      "10906/10906 [==============================] - 12s 1ms/step - loss: 1.1732 - accuracy: 0.6789\n",
      "10906/10906 [==============================] - 16s 1ms/step - loss: 1.1400 - accuracy: 0.6863\n",
      "10906/10906 [==============================] - 20s 2ms/step - loss: 1.1260 - accuracy: 0.6889\n",
      "10906/10906 [==============================] - 26s 2ms/step - loss: 1.1195 - accuracy: 0.6897\n",
      "10906/10906 [==============================] - 30s 3ms/step - loss: 1.1165 - accuracy: 0.6902\n",
      "10906/10906 [==============================] - 35s 3ms/step - loss: 1.1155 - accuracy: 0.6896\n"
     ]
    }
   ],
   "source": [
    "for i in range(len(models)):\n",
    "    models[i].fit(X_train, y_train, epochs=1)"
   ]
  },
  {
   "cell_type": "code",
   "execution_count": 39,
   "metadata": {},
   "outputs": [
    {
     "name": "stdout",
     "output_type": "stream",
     "text": [
      "INFO:tensorflow:Assets written to: symbolRecon_Lin.model100\\assets\n",
      "INFO:tensorflow:Assets written to: symbolRecon_Lin.model200\\assets\n",
      "INFO:tensorflow:Assets written to: symbolRecon_Lin.model300\\assets\n",
      "INFO:tensorflow:Assets written to: symbolRecon_Lin.model400\\assets\n",
      "INFO:tensorflow:Assets written to: symbolRecon_Lin.model500\\assets\n",
      "INFO:tensorflow:Assets written to: symbolRecon_Lin.model600\\assets\n"
     ]
    }
   ],
   "source": [
    "for i in range(len(models)):\n",
    "    models[i].save(f'symbolRecon_Lin.model{numNeuron[i]}')"
   ]
  },
  {
   "cell_type": "code",
   "execution_count": 40,
   "metadata": {},
   "outputs": [],
   "source": [
    "models = []\n",
    "for n in numNeuron:\n",
    "    models.append(tf.keras.models.load_model(f'symbolRecon_Lin.model{n}'))"
   ]
  },
  {
   "cell_type": "code",
   "execution_count": 41,
   "metadata": {},
   "outputs": [],
   "source": [
    "models = []\n",
    "\n",
    "for n in numNeuron:\n",
    "    models.append(tf.keras.models.load_model(f'symbolRecon_Lin.model{n}'))"
   ]
  },
  {
   "cell_type": "code",
   "execution_count": 42,
   "metadata": {},
   "outputs": [
    {
     "data": {
      "text/plain": [
       "6"
      ]
     },
     "execution_count": 42,
     "metadata": {},
     "output_type": "execute_result"
    }
   ],
   "source": [
    "len(models)"
   ]
  },
  {
   "cell_type": "code",
   "execution_count": 43,
   "metadata": {},
   "outputs": [
    {
     "name": "stdout",
     "output_type": "stream",
     "text": [
      "3636/3636 [==============================] - 3s 816us/step - loss: 1.0241 - accuracy: 0.7144\n",
      "3636/3636 [==============================] - 4s 1ms/step - loss: 1.0203 - accuracy: 0.7107\n",
      "3636/3636 [==============================] - 5s 1ms/step - loss: 1.0199 - accuracy: 0.7131\n",
      "3636/3636 [==============================] - 5s 1ms/step - loss: 1.0177 - accuracy: 0.7145\n",
      "3636/3636 [==============================] - 5s 1ms/step - loss: 1.0452 - accuracy: 0.7063\n",
      "3636/3636 [==============================] - 5s 1ms/step - loss: 1.0146 - accuracy: 0.7135\n"
     ]
    }
   ],
   "source": [
    "results = []\n",
    "\n",
    "for i in range(len(models)):\n",
    "    results.append(models[i].evaluate(X_test, y_test))"
   ]
  },
  {
   "cell_type": "code",
   "execution_count": 44,
   "metadata": {},
   "outputs": [],
   "source": [
    "results = np.array(results)"
   ]
  },
  {
   "cell_type": "code",
   "execution_count": 45,
   "metadata": {},
   "outputs": [
    {
     "data": {
      "text/plain": [
       "<matplotlib.collections.PathCollection at 0x1b7ccbac310>"
      ]
     },
     "execution_count": 45,
     "metadata": {},
     "output_type": "execute_result"
    },
    {
     "data": {
      "image/png": "[encoded data removed]",
      "text/plain": [
       "<Figure size 432x288 with 1 Axes>"
      ]
     },
     "metadata": {
      "needs_background": "light"
     },
     "output_type": "display_data"
    }
   ],
   "source": [
    "from unittest import result\n",
    "import matplotlib.pyplot as plt\n",
    "\n",
    "# plt.plot(numNeuron, results[:, 0])\n",
    "plt.scatter(numNeuron, results[:, 1])"
   ]
  },
  {
   "cell_type": "code",
   "execution_count": 47,
   "metadata": {},
   "outputs": [
    {
     "name": "stdout",
     "output_type": "stream",
     "text": [
      "3636/3636 [==============================] - 3s 751us/step\n",
      "3636/3636 [==============================] - 3s 827us/step\n",
      "3636/3636 [==============================] - 4s 1ms/step\n",
      "3636/3636 [==============================] - 4s 1ms/step\n",
      "3636/3636 [==============================] - 4s 1ms/step\n",
      "3636/3636 [==============================] - 5s 1ms/step\n"
     ]
    }
   ],
   "source": [
    "y_pred = []\n",
    "\n",
    "for i in range(len(models)):\n",
    "    temp = models[i].predict(X_test)\n",
    "    y_pred.append(np.argmax(temp, axis=-1))"
   ]
  },
  {
   "cell_type": "code",
   "execution_count": 49,
   "metadata": {},
   "outputs": [
    {
     "name": "stdout",
     "output_type": "stream",
     "text": [
      "Classifiation Rate: 0.7144\n",
      "Classifiation Rate: 0.7107\n",
      "Classifiation Rate: 0.7131\n",
      "Classifiation Rate: 0.7145\n",
      "Classifiation Rate: 0.7063\n",
      "Classifiation Rate: 0.7135\n"
     ]
    }
   ],
   "source": [
    "from sklearn.metrics import confusion_matrix\n",
    "\n",
    "cmat = []\n",
    "\n",
    "for i in range(len(y_pred)):\n",
    "    cmat.append(confusion_matrix(y_test, y_pred[i]))\n",
    "\n",
    "for cm in cmat:\n",
    "    correct = 0\n",
    "    for i in range(len(cm)):\n",
    "        correct += cm[i][i]\n",
    "\n",
    "    r = round((correct) / np.sum(cm), 4)\n",
    "    print(f'Classifiation Rate: {r}')\n"
   ]
  },
  {
   "cell_type": "code",
   "execution_count": null,
   "metadata": {},
   "outputs": [],
   "source": []
  }
 ],
 "metadata": {
  "kernelspec": {
   "display_name": "Python 3.9.12 ('ece539tf')",
   "language": "python",
   "name": "python3"
  },
  "language_info": {
   "codemirror_mode": {
    "name": "ipython",
    "version": 3
   },
   "file_extension": ".py",
   "mimetype": "text/x-python",
   "name": "python",
   "nbconvert_exporter": "python",
   "pygments_lexer": "ipython3",
   "version": "3.9.12"
  },
  "orig_nbformat": 4,
  "vscode": {
   "interpreter": {
    "hash": "742aaf27b73ff194636ea5a0e5218b84415e94d8d5ee10656f6083b55c5f7c58"
   }
  }
 },
 "nbformat": 4,
 "nbformat_minor": 2
}
