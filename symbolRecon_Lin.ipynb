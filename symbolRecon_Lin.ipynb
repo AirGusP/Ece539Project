{
 "cells": [
  {
   "cell_type": "code",
   "execution_count": 2,
   "metadata": {},
   "outputs": [],
   "source": [
    "import os\n",
    "import cv2\n",
    "import numpy as np\n",
    "import matplotlib.pyplot as plt\n",
    "import tensorflow as tf\n",
    "import scipy.io as sio\n",
    "from numpy import savetxt"
   ]
  },
  {
   "cell_type": "code",
   "execution_count": 3,
   "metadata": {},
   "outputs": [],
   "source": [
    "# Load data from emnist\n",
    "data = sio.loadmat(\"emnist-byclass.mat\")['dataset']"
   ]
  },
  {
   "cell_type": "code",
   "execution_count": 4,
   "metadata": {},
   "outputs": [],
   "source": [
    "# data[0][0][0] - 3 options (train, test, mapping)\n",
    "# data[0][0][0][0][0][0] - 3 options (images, labels, writers)\n",
    "# data[0][0][0][0][0][0][0]\n",
    "\n",
    "for i in range(0):\n",
    "    label = data[0][0][0][0][0][1][1000 + i]\n",
    "\n",
    "    pixels = data[0][0][0][0][0][0][1000 + i].reshape((28, 28))\n",
    "\n",
    "    plt.title('Label is {label}'.format(label=label))\n",
    "    plt.imshow(pixels, cmap='gray')\n",
    "    plt.show()"
   ]
  },
  {
   "cell_type": "code",
   "execution_count": 5,
   "metadata": {},
   "outputs": [],
   "source": [
    "from sklearn.model_selection import train_test_split\n",
    "\n",
    "trainSize = 0.1\n",
    "\n",
    "X_train_data = data[0][0][0][0][0][0]\n",
    "y_train_data = data[0][0][0][0][0][1]\n",
    "\n",
    "X_train, X_val, y_train, y_val = train_test_split(X_train_data, y_train_data, train_size=trainSize, random_state=0)\n"
   ]
  },
  {
   "cell_type": "code",
   "execution_count": 6,
   "metadata": {},
   "outputs": [],
   "source": [
    "X_test = data[0][0][1][0][0][0]\n",
    "y_test = data[0][0][1][0][0][1]"
   ]
  },
  {
   "cell_type": "code",
   "execution_count": 7,
   "metadata": {},
   "outputs": [],
   "source": [
    "x_train = tf.keras.utils.normalize(X_train, axis=1)\n",
    "x_test = tf.keras.utils.normalize(X_test, axis=1)"
   ]
  },
  {
   "cell_type": "code",
   "execution_count": 8,
   "metadata": {},
   "outputs": [],
   "source": [
    "model = tf.keras.models.Sequential()\n",
    "model.add(tf.keras.layers.Dense(128, input_dim=784, activation='linear'))\n",
    "model.add(tf.keras.layers.Dense(62, activation='softmax'))"
   ]
  },
  {
   "cell_type": "code",
   "execution_count": 9,
   "metadata": {},
   "outputs": [],
   "source": [
    "model.compile(optimizer='adam', loss='sparse_categorical_crossentropy', metrics=['accuracy'])"
   ]
  },
  {
   "cell_type": "code",
   "execution_count": 10,
   "metadata": {},
   "outputs": [
    {
     "name": "stdout",
     "output_type": "stream",
     "text": [
      "Epoch 1/3\n",
      "2182/2182 [==============================] - 3s 1ms/step - loss: 39.2800 - accuracy: 0.5365\n",
      "Epoch 2/3\n",
      "2182/2182 [==============================] - 2s 1ms/step - loss: 12.1094 - accuracy: 0.5649\n",
      "Epoch 3/3\n",
      "2182/2182 [==============================] - 2s 1ms/step - loss: 4.6501 - accuracy: 0.5419\n"
     ]
    },
    {
     "data": {
      "text/plain": [
       "<keras.callbacks.History at 0x26568ec7d90>"
      ]
     },
     "execution_count": 10,
     "metadata": {},
     "output_type": "execute_result"
    }
   ],
   "source": [
    "model.fit(X_train, y_train, epochs=3)"
   ]
  },
  {
   "cell_type": "code",
   "execution_count": 11,
   "metadata": {},
   "outputs": [
    {
     "name": "stdout",
     "output_type": "stream",
     "text": [
      "INFO:tensorflow:Assets written to: symbolRecon_Lin.model\\assets\n"
     ]
    }
   ],
   "source": [
    "model.save('symbolRecon_Lin.model')"
   ]
  },
  {
   "cell_type": "code",
   "execution_count": 12,
   "metadata": {},
   "outputs": [],
   "source": [
    "model = tf.keras.models.load_model('symbolRecon_Lin.model')"
   ]
  },
  {
   "cell_type": "code",
   "execution_count": 13,
   "metadata": {},
   "outputs": [
    {
     "name": "stdout",
     "output_type": "stream",
     "text": [
      "3636/3636 [==============================] - 3s 792us/step - loss: 3.4578 - accuracy: 0.5310\n"
     ]
    }
   ],
   "source": [
    "loss, accurary = model.evaluate(X_test, y_test)"
   ]
  },
  {
   "cell_type": "code",
   "execution_count": 14,
   "metadata": {},
   "outputs": [],
   "source": [
    "savetxt('ytest.csv', y_test, delimiter=',')"
   ]
  },
  {
   "cell_type": "code",
   "execution_count": 15,
   "metadata": {},
   "outputs": [
    {
     "name": "stdout",
     "output_type": "stream",
     "text": [
      "3636/3636 [==============================] - 3s 688us/step\n",
      "(116323,)\n"
     ]
    }
   ],
   "source": [
    "y_pred = model.predict(X_test)\n",
    "y_pred = np.argmax(y_pred, axis=-1)\n",
    "print(y_pred.shape)"
   ]
  },
  {
   "cell_type": "code",
   "execution_count": 16,
   "metadata": {},
   "outputs": [
    {
     "name": "stdout",
     "output_type": "stream",
     "text": [
      "(116323,)\n"
     ]
    }
   ],
   "source": [
    "savetxt('ypred_Lin.csv', y_pred, delimiter=',')\n",
    "print(y_pred.shape)"
   ]
  },
  {
   "cell_type": "code",
   "execution_count": 17,
   "metadata": {},
   "outputs": [
    {
     "name": "stdout",
     "output_type": "stream",
     "text": [
      "Classifiation Rate: 0.531\n"
     ]
    }
   ],
   "source": [
    "from sklearn.metrics import confusion_matrix\n",
    "\n",
    "cm = confusion_matrix(y_test, y_pred)\n",
    "\n",
    "correct = 0\n",
    "for i in range(len(cm)):\n",
    "    correct += cm[i][i]\n",
    "\n",
    "r = round((correct) / np.sum(cm), 4)\n",
    "print(f'Classifiation Rate: {r}')\n",
    "\n",
    "savetxt('data_Lin.csv', cm, delimiter=',')"
   ]
  },
  {
   "cell_type": "code",
   "execution_count": null,
   "metadata": {},
   "outputs": [],
   "source": []
  }
 ],
 "metadata": {
  "kernelspec": {
   "display_name": "Python 3.9.12 ('ece539tf')",
   "language": "python",
   "name": "python3"
  },
  "language_info": {
   "codemirror_mode": {
    "name": "ipython",
    "version": 3
   },
   "file_extension": ".py",
   "mimetype": "text/x-python",
   "name": "python",
   "nbconvert_exporter": "python",
   "pygments_lexer": "ipython3",
   "version": "3.9.12"
  },
  "orig_nbformat": 4,
  "vscode": {
   "interpreter": {
    "hash": "742aaf27b73ff194636ea5a0e5218b84415e94d8d5ee10656f6083b55c5f7c58"
   }
  }
 },
 "nbformat": 4,
 "nbformat_minor": 2
}
